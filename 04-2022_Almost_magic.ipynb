{
 "cells": [
  {
   "cell_type": "code",
   "execution_count": 18,
   "id": "a2feeb82",
   "metadata": {},
   "outputs": [],
   "source": [
    "import numpy as np\n",
    "#from codetiming import Timer\n",
    "from ortools.sat.python import cp_model\n",
    "\n",
    "\n",
    "def n_square(i: int, j:int, n:int = 3, matrix_size: int = 6):\n",
    "    \"\"\"\n",
    "    Given a position (i,j) representing the left top corner of a nxn submatrix, returns a boolean array \n",
    "    indicating the positions of such nxn submatrix inside the bigger square matrix of size: matrix_size \n",
    "    \"\"\"\n",
    "    matrix = np.full((matrix_size,matrix_size), False)\n",
    "    matrix[i:i+n,j:j+n] = True\n",
    "\n",
    "    return matrix\n",
    "\n",
    "\n"
   ]
  },
  {
   "cell_type": "code",
   "execution_count": null,
   "id": "92989c34",
   "metadata": {},
   "outputs": [],
   "source": [
    "n = 6 #Grid size\n",
    "\n",
    "lb = 0\n",
    "ub = 9999\n",
    "\n",
    "model = cp_model.CpModel()\n",
    "\n",
    "X = np.array([[model.new_int_var(lb,ub, f\"X({i},{j})\") for j in range(n)] for i in range(n)])\n",
    "\n",
    "magic_corners = [(0, 1), (2, 0), (3, 2), (1, 3)]\n",
    "\n",
    "squares = [n_square(i, j) for i, j in magic_corners]\n",
    "\n",
    "# Initialize all False array and then perform or operator across all squares\n",
    "grid = np.zeros_like(squares[0], dtype=bool)\n",
    "for a in squares:\n",
    "    grid |= a\n",
    "\n",
    "for i in range(n):\n",
    "    for j in range(n):\n",
    "        if grid[i,j]:\n",
    "            model.Add(X[(i,j)] > 0)\n",
    "        else:\n",
    "            model.Add(X[(i,j)] == 0)\n",
    "\n",
    "\n",
    "for i,j in magic_corners:\n",
    "   sq = X[i:i+3, j:j+3]\n",
    "   row_sums = np.sum(sq, axis=1)\n",
    "   \n",
    "   col_sums = np.sum(sq, axis=0)\n",
    "   main_diagonal_sum = np.trace(sq) # Trace sums the main diagonal\n",
    "   anti_diagonal_sum = np.trace(np.fliplr(sq)) # fliplr flips the array left to right\n",
    "   all_sums = np.array(row_sums + col_sums + [main_diagonal_sum + anti_diagonal_sum]).reshape(-1, 1)\n",
    " \n",
    "\n",
    "\n",
    "\n"
   ]
  }
 ],
 "metadata": {
  "kernelspec": {
   "display_name": "base",
   "language": "python",
   "name": "python3"
  },
  "language_info": {
   "codemirror_mode": {
    "name": "ipython",
    "version": 3
   },
   "file_extension": ".py",
   "mimetype": "text/x-python",
   "name": "python",
   "nbconvert_exporter": "python",
   "pygments_lexer": "ipython3",
   "version": "3.12.9"
  }
 },
 "nbformat": 4,
 "nbformat_minor": 5
}
