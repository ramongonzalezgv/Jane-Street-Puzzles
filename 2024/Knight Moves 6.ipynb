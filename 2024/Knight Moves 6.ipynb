{
 "cells": [
  {
   "cell_type": "markdown",
   "id": "183ed0c0",
   "metadata": {},
   "source": [
    "# Knight moves 6"
   ]
  },
  {
   "cell_type": "code",
   "execution_count": 191,
   "id": "e9455acd",
   "metadata": {},
   "outputs": [],
   "source": [
    "import pandas as pd\n",
    "import numpy as np\n",
    "import time\n",
    "import seaborn as sns\n",
    "from matplotlib.colors import ListedColormap\n",
    "import matplotlib.pyplot as plt\n",
    "import random\n",
    "from itertools import permutations\n",
    "from matplotlib.colors import ListedColormap, BoundaryNorm\n",
    "import requests\n",
    "from bs4 import BeautifulSoup\n",
    "from IPython.display import Markdown, display,Image,HTML"
   ]
  },
  {
   "cell_type": "markdown",
   "id": "48551570",
   "metadata": {},
   "source": [
    "# Knight moves 6"
   ]
  },
  {
   "cell_type": "code",
   "execution_count": 187,
   "id": "1a7b4c94",
   "metadata": {},
   "outputs": [],
   "source": [
    "# Define the grid layout\n",
    "grid = [\n",
    "    ['A', 'B', 'B', 'C', 'C', 'C'],\n",
    "    ['A', 'B', 'B', 'C', 'C', 'C'],\n",
    "    ['A', 'A', 'B', 'B', 'C', 'C'],\n",
    "    ['A', 'A', 'B', 'B', 'C', 'C'],\n",
    "    ['A', 'A', 'A', 'B', 'B', 'C'],\n",
    "    ['A', 'A', 'A', 'B', 'B', 'C']\n",
    "]\n",
    "\n",
    "# Map grid coordinates to values for easier referencing\n",
    "rows = [1, 2, 3, 4, 5, 6]\n",
    "columns = ['a', 'b', 'c', 'd', 'e', 'f']\n",
    "\n",
    "def get_knight_moves(position,N=6):\n",
    "    i,j = position\n",
    "    moves=[(2, 1), (1, 2), (-1, 2), (-2, 1), (-2, -1), (-1, -2), (1, -2), (2, -1)]\n",
    "    return [(x+i,y+j) for x,y in moves if x+i >=0 and x+i<N and y+j>=0 and y+j<N ]\n",
    "\n",
    "# Recursive function to find all valid paths\n",
    "def find_paths(start, end, path=None, max_steps=10):\n",
    "    if path is None:\n",
    "        path = [start]  # Initialize the path with the start position\n",
    "    if start == end:\n",
    "        return [path]\n",
    "    if len(path) >= max_steps:\n",
    "        return []\n",
    "    \n",
    "    valid_paths = []\n",
    "    for move in get_knight_moves(start):\n",
    "        if move not in path:  # Avoid revisiting squares\n",
    "            new_path = path + [move]\n",
    "            valid_paths += find_paths(move, end, new_path, max_steps)\n",
    "    return valid_paths\n",
    "\n",
    "# Function to compute score for a single path\n",
    "def compute_score(path, values, grid):\n",
    "    score = values['A']  # Start with A points\n",
    "    for i in range(1, len(path)):\n",
    "        prev_cell = path[i-1]\n",
    "        current_cell = path[i]\n",
    "        prev_value = grid[prev_cell[0]][prev_cell[1]]\n",
    "        current_value = grid[current_cell[0]][current_cell[1]]\n",
    "\n",
    "        if prev_value != current_value:\n",
    "            score *= values[current_value]\n",
    "        else:\n",
    "            score += values[current_value]\n",
    "    return score"
   ]
  },
  {
   "cell_type": "code",
   "execution_count": 188,
   "id": "9cfc29d7",
   "metadata": {},
   "outputs": [],
   "source": [
    "# Define all possible distinct values for A, B, C\n",
    "possible_values = [i for i in range(1, 50)]\n",
    "\n",
    "# Find paths and check scores\n",
    "def solve_puzzle(grid):\n",
    "    i = 0\n",
    "    Min_comb_abc = [50]\n",
    "    Comb = {}\n",
    "    Integers = {}\n",
    "    Paths = {}\n",
    "    valid_combinations = [(A, B, C) for A, B, C in permutations(range(1, 50), 3) if A + B + C < 50]\n",
    "    for A, B, C in valid_combinations:\n",
    "\n",
    "        if (A + B + C) < min(Min_comb_abc):\n",
    "            values = {'A': A, 'B': B, 'C': C}\n",
    "\n",
    "            # Find paths from a1 to f6 and a6 to f1\n",
    "            path1 = find_paths((0, 0), (5, 5))  # a1 to f6\n",
    "            path2 = find_paths((5, 0), (0, 5))  # a6 to f1\n",
    "\n",
    "            # Check if any path scores exactly 2024 points\n",
    "            for p1 in path1:\n",
    "                score1 = compute_score(p1, values,grid)\n",
    "                if score1 == 2024:\n",
    "                    for p2 in path2:\n",
    "                        score2 = compute_score(p2, values,grid)\n",
    "                        if score2 == 2024 and A + B + C < 50:\n",
    "\n",
    "                            Min_comb_abc.append(A+B+C)\n",
    "\n",
    "                            Integers[\"A\"] = A\n",
    "                            Integers[\"B\"] = B\n",
    "                            Integers[\"C\"] = C\n",
    "\n",
    "                            Paths[\"p1\"] = p1\n",
    "                            Paths[\"p2\"] = p2\n",
    "\n",
    "                            Comb[f\"Integers {i}\"] = Integers\n",
    "                            Comb[f\"Paths {i}\"] = Paths\n",
    "                            Comb[f\"Sum {i}\"] = A + B + C\n",
    "\n",
    "                            #print(f\"Solution: A={A}, B={B}, C={C}\")\n",
    "                            #print(f\"Path 1: {p1}, Path 2: {p2}\")\n",
    "                            #return Integers, Paths\n",
    "    return Comb"
   ]
  },
  {
   "cell_type": "code",
   "execution_count": 178,
   "id": "e826345d",
   "metadata": {},
   "outputs": [],
   "source": [
    "Final = solve_puzzle(grid=grid)"
   ]
  },
  {
   "cell_type": "code",
   "execution_count": 179,
   "id": "a363766d",
   "metadata": {},
   "outputs": [
    {
     "data": {
      "text/plain": [
       "{'Integers 0': {'A': 2, 'B': 5, 'C': 4},\n",
       " 'Paths 0': {'p1': [(0, 0),\n",
       "   (2, 1),\n",
       "   (0, 2),\n",
       "   (2, 3),\n",
       "   (3, 5),\n",
       "   (4, 3),\n",
       "   (2, 2),\n",
       "   (3, 4),\n",
       "   (5, 5)],\n",
       "  'p2': [(5, 0),\n",
       "   (3, 1),\n",
       "   (1, 2),\n",
       "   (3, 3),\n",
       "   (1, 4),\n",
       "   (2, 2),\n",
       "   (0, 1),\n",
       "   (1, 3),\n",
       "   (0, 5)]},\n",
       " 'Sum 0': 11}"
      ]
     },
     "execution_count": 179,
     "metadata": {},
     "output_type": "execute_result"
    }
   ],
   "source": [
    "Final"
   ]
  },
  {
   "cell_type": "code",
   "execution_count": 185,
   "id": "dffa4d30",
   "metadata": {},
   "outputs": [
    {
     "data": {
      "image/png": "[encoded data removed]",
      "text/plain": [
       "<Figure size 400x400 with 2 Axes>"
      ]
     },
     "metadata": {},
     "output_type": "display_data"
    }
   ],
   "source": [
    "# Custom colors for the heatmap\n",
    "\n",
    "\n",
    "def output(Paths,grid):\n",
    "\n",
    "    path_grid = np.zeros((6,6))\n",
    "\n",
    "    path1 = Paths[\"p1\"]\n",
    "    path2 = Paths[\"p2\"]\n",
    "\n",
    "    for square in path1:\n",
    "        path_grid[square] += 1\n",
    "\n",
    "    for square in path2:\n",
    "        path_grid[square] += 2\n",
    "\n",
    "    colors = ['white', 'red', 'blue', 'purple']\n",
    "    cmap = ListedColormap(colors)\n",
    "    norm = BoundaryNorm([0, 1, 2, 3, 4], cmap.N)\n",
    "\n",
    "    '''\n",
    "    for path in Paths.values():\n",
    "        for square in path:\n",
    "            path_grid[square] += 1\n",
    "    '''\n",
    "    fig,ax = plt.subplots(1,1,figsize=(4,4))    \n",
    "    x = np.array((grid).astype('str'))\n",
    "    x[x==\"0\"] =\"-\"\n",
    "    ax =sns.heatmap(path_grid,annot=x,cbar=True,cmap='PiYG',fmt=\"\",center=0,\n",
    "                    linewidths=1,linecolor=\"k\",annot_kws={\"size\":12,\"color\":\"k\"},alpha=.4,)\n",
    "    ax.axis(\"off\")\n",
    "    plt.tight_layout()\n",
    "    plt.show()\n",
    "\n",
    "Paths = Final[\"Paths 0\"]\n",
    "output(Paths,np.array(grid))"
   ]
  }
 ],
 "metadata": {
  "kernelspec": {
   "display_name": "base",
   "language": "python",
   "name": "python3"
  },
  "language_info": {
   "codemirror_mode": {
    "name": "ipython",
    "version": 3
   },
   "file_extension": ".py",
   "mimetype": "text/x-python",
   "name": "python",
   "nbconvert_exporter": "python",
   "pygments_lexer": "ipython3",
   "version": "3.10.10"
  }
 },
 "nbformat": 4,
 "nbformat_minor": 5
}
