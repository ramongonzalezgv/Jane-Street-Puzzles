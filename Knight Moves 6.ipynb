{
 "cells": [
  {
   "cell_type": "code",
   "execution_count": 1,
   "id": "976d6e4c",
   "metadata": {},
   "outputs": [],
   "source": [
    "import pandas as pd\n",
    "import numpy as np\n",
    "import time\n",
    "import seaborn as sns\n",
    "from matplotlib.colors import ListedColormap\n",
    "import matplotlib.pyplot as plt\n",
    "import random"
   ]
  },
  {
   "cell_type": "markdown",
   "id": "183ed0c0",
   "metadata": {},
   "source": [
    "# Knight moves 6"
   ]
  },
  {
   "cell_type": "code",
   "execution_count": 115,
   "id": "a74f2050",
   "metadata": {},
   "outputs": [],
   "source": [
    "# Define the grid layout\n",
    "grid = [\n",
    "    ['A', 'B', 'B', 'C', 'C', 'C'],\n",
    "    ['A', 'A', 'B', 'B', 'C', 'C'],\n",
    "    ['A', 'A', 'B', 'B', 'C', 'C'],\n",
    "    ['A', 'A', 'B', 'B', 'C', 'C'],\n",
    "    ['A', 'A', 'B', 'B', 'C', 'C'],\n",
    "    ['A', 'B', 'B', 'C', 'C', 'C']\n",
    "]\n",
    "\n",
    "# Map grid coordinates to values for easier referencing\n",
    "rows = [1, 2, 3, 4, 5, 6]\n",
    "columns = ['a', 'b', 'c', 'd', 'e', 'f']\n",
    "\n",
    "def get_knight_moves(position,N=6):\n",
    "    i,j = position\n",
    "    moves=[(2, 1), (1, 2), (-1, 2), (-2, 1), (-2, -1), (-1, -2), (1, -2), (2, -1)]\n",
    "    return [(x+i,y+j) for x,y in moves if x+i >=0 and x+i<N and y+j>=0 and y+j<N ]\n",
    "\n",
    "# Recursive function to find all valid paths\n",
    "def find_paths(start, end, path=None, max_steps=10):\n",
    "    if path is None:\n",
    "        path = [start]  # Initialize the path with the start position\n",
    "    if start == end:\n",
    "        return [path]\n",
    "    if len(path) >= max_steps:\n",
    "        return []\n",
    "    \n",
    "    valid_paths = []\n",
    "    for move in get_knight_moves(start):\n",
    "        if move not in path:  # Avoid revisiting squares\n",
    "            new_path = path + [move]\n",
    "            valid_paths += find_paths(move, end, new_path, max_steps)\n",
    "    return valid_paths\n",
    "\n",
    "# Function to compute score for a single path\n",
    "def compute_score(path, values):\n",
    "    score = values['A']  # Start with A points\n",
    "    for i in range(1, len(path)):\n",
    "        prev_cell = path[i-1]\n",
    "        current_cell = path[i]\n",
    "        prev_value = grid[prev_cell[0]][prev_cell[1]]\n",
    "        current_value = grid[current_cell[0]][current_cell[1]]\n",
    "\n",
    "        if prev_value != current_value:\n",
    "            score *= values[current_value]\n",
    "        else:\n",
    "            score += values[current_value]\n",
    "    return score"
   ]
  },
  {
   "cell_type": "code",
   "execution_count": 116,
   "id": "313c0f08",
   "metadata": {},
   "outputs": [],
   "source": [
    "from itertools import permutations\n",
    "\n",
    "# Define all possible distinct values for A, B, C\n",
    "possible_values = [i for i in range(1, 50)]\n",
    "\n",
    "# Find paths and check scores\n",
    "def solve_puzzle():\n",
    "    Integers = {}\n",
    "    Paths = {}\n",
    "    for A, B, C in permutations(possible_values, 3):\n",
    "        values = {'A': A, 'B': B, 'C': C}\n",
    "\n",
    "        # Find paths from a1 to f6 and a6 to f1\n",
    "        path1 = find_paths((0, 0), (5, 5))  # a1 to f6\n",
    "        path2 = find_paths((5, 0), (0, 5))  # a6 to f1\n",
    "\n",
    "        # Check if any path scores exactly 2024 points\n",
    "        for p1 in path1:\n",
    "            score1 = compute_score(p1, values)\n",
    "            if score1 == 2024:\n",
    "                for p2 in path2:\n",
    "                    score2 = compute_score(p2, values)\n",
    "                    if score2 == 2024 and A + B + C < 50:\n",
    "                        Integers[\"A\"] = A\n",
    "                        Integers[\"B\"] = B\n",
    "                        Integers[\"C\"] = C\n",
    "                        Paths[\"p1\"] = p1\n",
    "                        Paths[\"p2\"] = p2\n",
    "                        print(f\"Solution: A={A}, B={B}, C={C}\")\n",
    "                        print(f\"Path 1: {p1}, Path 2: {p2}\")\n",
    "                        return Integers, Paths"
   ]
  },
  {
   "cell_type": "code",
   "execution_count": 117,
   "id": "0530f792",
   "metadata": {},
   "outputs": [
    {
     "name": "stdout",
     "output_type": "stream",
     "text": [
      "Solution: A=1, B=2, C=22\n",
      "Path 1: [(0, 0), (1, 2), (2, 4), (3, 2), (5, 1), (4, 3), (5, 5)], Path 2: [(5, 0), (4, 2), (3, 4), (1, 3), (3, 2), (1, 1), (0, 3), (2, 4), (0, 5)]\n"
     ]
    }
   ],
   "source": [
    "Integers, Paths = solve_puzzle()"
   ]
  },
  {
   "cell_type": "code",
   "execution_count": 128,
   "id": "e59dc212",
   "metadata": {},
   "outputs": [
    {
     "data": {
      "text/plain": [
       "2024"
      ]
     },
     "execution_count": 128,
     "metadata": {},
     "output_type": "execute_result"
    }
   ],
   "source": [
    "(1*2*22*2+2+2)*22"
   ]
  },
  {
   "cell_type": "code",
   "execution_count": 129,
   "id": "c3097771",
   "metadata": {},
   "outputs": [
    {
     "data": {
      "text/plain": [
       "2024"
      ]
     },
     "execution_count": 129,
     "metadata": {},
     "output_type": "execute_result"
    }
   ],
   "source": [
    "(2*22*2+2)*22+22+22"
   ]
  },
  {
   "cell_type": "code",
   "execution_count": 124,
   "id": "9dd030be",
   "metadata": {},
   "outputs": [
    {
     "data": {
      "image/png": "[encoded data removed]",
      "text/plain": [
       "<Figure size 400x400 with 2 Axes>"
      ]
     },
     "metadata": {},
     "output_type": "display_data"
    }
   ],
   "source": [
    "from matplotlib.colors import ListedColormap, BoundaryNorm\n",
    "\n",
    "# Custom colors for the heatmap\n",
    "\n",
    "\n",
    "def output(Paths,grid):\n",
    "\n",
    "    path_grid = np.zeros((6,6))\n",
    "\n",
    "    path1 = Paths[\"p1\"]\n",
    "    path2 = Paths[\"p2\"]\n",
    "\n",
    "    for square in path1:\n",
    "        path_grid[square] += 1\n",
    "\n",
    "    for square in path2:\n",
    "        path_grid[square] += 2\n",
    "\n",
    "    colors = ['white', 'red', 'blue', 'purple']\n",
    "    cmap = ListedColormap(colors)\n",
    "    norm = BoundaryNorm([0, 1, 2, 3, 4], cmap.N)\n",
    "\n",
    "    '''\n",
    "    for path in Paths.values():\n",
    "        for square in path:\n",
    "            path_grid[square] += 1\n",
    "    '''\n",
    "    fig,ax = plt.subplots(1,1,figsize=(4,4))    \n",
    "    x = np.array((grid).astype('str'))\n",
    "    x[x==\"0\"] =\"-\"\n",
    "    ax =sns.heatmap(path_grid,annot=x,cbar=True,cmap='PiYG',fmt=\"\",center=0,\n",
    "                    linewidths=1,linecolor=\"k\",annot_kws={\"size\":12,\"color\":\"k\"},alpha=.4,)\n",
    "    ax.axis(\"off\")\n",
    "    plt.tight_layout()\n",
    "    plt.show()\n",
    "    \n",
    "output(Paths,np.array(grid))"
   ]
  },
  {
   "cell_type": "markdown",
   "id": "d49d553e",
   "metadata": {},
   "source": [
    "# Paths\n",
    "\n",
    "### 1. [(0, 0), (1, 2), (2, 4), (3, 2), (5, 1), (4, 3), (5, 5)]  = A,B,C,B,B,B,C\n",
    "### 2. [(5, 0), (4, 2), (3, 4), (1, 3), (3, 2), (1, 1), (0, 3), (2, 4), (0, 5)] = A,B,C,B,B,A,C,C,C\n"
   ]
  }
 ],
 "metadata": {
  "kernelspec": {
   "display_name": "base",
   "language": "python",
   "name": "python3"
  },
  "language_info": {
   "codemirror_mode": {
    "name": "ipython",
    "version": 3
   },
   "file_extension": ".py",
   "mimetype": "text/x-python",
   "name": "python",
   "nbconvert_exporter": "python",
   "pygments_lexer": "ipython3",
   "version": "3.10.10"
  }
 },
 "nbformat": 4,
 "nbformat_minor": 5
}
